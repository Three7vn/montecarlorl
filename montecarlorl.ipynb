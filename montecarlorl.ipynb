{
  "nbformat": 4,
  "nbformat_minor": 0,
  "metadata": {
    "colab": {
      "provenance": []
    },
    "kernelspec": {
      "name": "python3",
      "display_name": "Python 3"
    },
    "language_info": {
      "name": "python"
    }
  },
  "cells": [
    {
      "cell_type": "code",
      "execution_count": 2,
      "metadata": {
        "id": "tPSFZHRhquav"
      },
      "outputs": [],
      "source": [
        "import gym\n",
        "import numpy as np\n",
        "from collections import defaultdict\n",
        "import matplotlib.pyplot as plt\n",
        "\n",
        "\n"
      ]
    },
    {
      "cell_type": "code",
      "source": [
        "\n",
        "#initialise the blackjack environment\n",
        "env = gym.make('Blackjack-v1')"
      ],
      "metadata": {
        "colab": {
          "base_uri": "https://localhost:8080/"
        },
        "id": "jq0PyqP9rOHm",
        "outputId": "ab17c198-7659-492f-8607-025e165f74af"
      },
      "execution_count": 3,
      "outputs": [
        {
          "output_type": "stream",
          "name": "stderr",
          "text": [
            "/usr/local/lib/python3.11/dist-packages/gym/core.py:317: DeprecationWarning: \u001b[33mWARN: Initializing wrapper in old step API which returns one bool instead of two. It is recommended to set `new_step_api=True` to use new step API. This will be the default behaviour in future.\u001b[0m\n",
            "  deprecation(\n",
            "/usr/local/lib/python3.11/dist-packages/gym/wrappers/step_api_compatibility.py:39: DeprecationWarning: \u001b[33mWARN: Initializing environment in old step API which returns one bool instead of two. It is recommended to set `new_step_api=True` to use new step API. This will be the default behaviour in future.\u001b[0m\n",
            "  deprecation(\n"
          ]
        }
      ]
    },
    {
      "cell_type": "code",
      "source": [
        "\n",
        "#display observation and action space\n",
        "print(f'Observation space: {env.observation_space}')\n",
        "print(f'Action space: {env.action_space}')"
      ],
      "metadata": {
        "id": "yuTsUjT1rQbQ",
        "colab": {
          "base_uri": "https://localhost:8080/"
        },
        "outputId": "ef8b991b-29eb-4059-a1e0-60223a2ebfe4"
      },
      "execution_count": 4,
      "outputs": [
        {
          "output_type": "stream",
          "name": "stdout",
          "text": [
            "Observation space: Tuple(Discrete(32), Discrete(11), Discrete(2))\n",
            "Action space: Discrete(2)\n"
          ]
        }
      ]
    },
    {
      "cell_type": "code",
      "source": [
        "#define a custom policy for decision-making\n",
        "def custom_policy(state):\n",
        "    #fetch the player's hand value\n",
        "    player_total = state[0]\n",
        "\n",
        "    #decide to stand (0) if total is 19 or above, otherwise request card (1)\n",
        "    if player_total >= 19:\n",
        "        return 0  #stand\n",
        "    else:\n",
        "        return 1  #request card"
      ],
      "metadata": {
        "id": "i0dmUsKirRF6"
      },
      "execution_count": 5,
      "outputs": []
    },
    {
      "cell_type": "code",
      "source": [
        "#function to play multiple games\n",
        "def play_blackjack(env, policy, games=5):\n",
        "    results = []  #store results of all games\n",
        "    for game in range(games):\n",
        "        #reset the game\n",
        "        state = env.reset()\n",
        "        game_log = []  #log states, actions, and rewards for this game\n",
        "\n",
        "        print(f'Game {game + 1} starts!')\n",
        "\n",
        "        while True:\n",
        "            action = policy(state)  #decide the action based on policy\n",
        "            next_state, reward, done, _ = env.step(action)  #take a step in the environment\n",
        "            game_log.append((state, action, reward))  #log the step\n",
        "            state = next_state  #update to the new state\n",
        "\n",
        "            #check if the game is over\n",
        "            if done:\n",
        "                print(f'Game {game + 1} ends! Outcome: {reward}')\n",
        "                results.append({'reward': reward, 'log': game_log})  #save the game outcome\n",
        "                break\n",
        "    return results\n"
      ],
      "metadata": {
        "id": "pbEcec4mrZR-"
      },
      "execution_count": 6,
      "outputs": []
    },
    {
      "cell_type": "code",
      "source": [
        "#monte carlo prediction to estimate the action-value function\n",
        "def monte_carlo_prediction(env, policy, episodes, gamma=1.0):\n",
        "    #initialise dictionaries to track returns and counts\n",
        "    returns_sum = defaultdict(lambda: np.zeros(env.action_space.n))\n",
        "    N = defaultdict(lambda: np.zeros(env.action_space.n))\n",
        "    Q = defaultdict(lambda: np.zeros(env.action_space.n))\n",
        "\n",
        "    #iterate over multiple episodes\n",
        "    for episode_idx in range(1, episodes + 1):\n",
        "        if episode_idx % 500 == 0:\n",
        "            print(f'Episode {episode_idx}/{episodes}')\n",
        "\n",
        "        #generate a single episode\n",
        "        state = env.reset()\n",
        "        episode = []\n",
        "        while True:\n",
        "            action = policy(state)  #select action based on policy\n",
        "            next_state, reward, done, _ = env.step(action)\n",
        "            episode.append((state, action, reward))  #log the episode\n",
        "            state = next_state\n",
        "            if done:\n",
        "                break\n",
        "\n",
        "        #process the episode for returns and Q updates\n",
        "        visited = set()\n",
        "        for idx, (state, action, reward) in enumerate(episode):\n",
        "            if (state, action) not in visited:\n",
        "                visited.add((state, action))\n",
        "                #calculate the return\n",
        "                G = sum(gamma**i * episode[i][2] for i in range(idx, len(episode)))\n",
        "                returns_sum[state][action] += G  #accumulate returns\n",
        "                N[state][action] += 1  #increment visit count\n",
        "                Q[state][action] = returns_sum[state][action] / N[state][action]  #update Q\n",
        "\n",
        "    return Q\n"
      ],
      "metadata": {
        "id": "mqpCKkmDraeA"
      },
      "execution_count": 7,
      "outputs": []
    },
    {
      "cell_type": "code",
      "source": [
        "#monte carlo control to optimise the policy\n",
        "def monte_carlo_control(env, episodes, alpha=0.1, gamma=1.0):\n",
        "    #initialise Q-values and policy\n",
        "    Q = defaultdict(lambda: np.zeros(env.action_space.n))\n",
        "    policy = defaultdict(int)\n",
        "\n",
        "    #iterate through episodes\n",
        "    for episode_idx in range(1, episodes + 1):\n",
        "        if episode_idx % 500 == 0:\n",
        "            print(f'Episode {episode_idx}/{episodes}')\n",
        "\n",
        "        #generate an episode with the current policy\n",
        "        state = env.reset()\n",
        "        episode = []\n",
        "        while True:\n",
        "            #use epsilon-greedy policy to encourage exploration\n",
        "            epsilon = 1.0 / (episode_idx + 1)\n",
        "            if np.random.rand() < epsilon:\n",
        "                action = env.action_space.sample()\n",
        "            else:\n",
        "                action = np.argmax(Q[state])\n",
        "\n",
        "            next_state, reward, done, _ = env.step(action)\n",
        "            episode.append((state, action, reward))\n",
        "            state = next_state\n",
        "            if done:\n",
        "                break\n",
        "\n",
        "        #process the episode for constant-alpha updates\n",
        "        for idx, (state, action, reward) in enumerate(episode):\n",
        "            #calculate return\n",
        "            G = sum(gamma**i * episode[i][2] for i in range(idx, len(episode)))\n",
        "            #update Q-value with constant-alpha rule\n",
        "            Q[state][action] += alpha * (G - Q[state][action])\n",
        "\n",
        "        #update policy to be greedy with respect to Q\n",
        "        for state in Q.keys():\n",
        "            policy[state] = np.argmax(Q[state])\n",
        "\n",
        "    return policy, Q\n"
      ],
      "metadata": {
        "id": "-fnCxwyDrdqh"
      },
      "execution_count": 8,
      "outputs": []
    },
    {
      "cell_type": "code",
      "source": [
        "#function to analyse results\n",
        "def analyse_results(results):\n",
        "    total_rewards = sum(game['reward'] for game in results)\n",
        "    wins = sum(1 for game in results if game['reward'] > 0)\n",
        "    losses = sum(1 for game in results if game['reward'] < 0)\n",
        "    draws = len(results) - wins - losses\n",
        "\n",
        "    #print summary statistics\n",
        "    print('\\n--- Game Analysis ---')\n",
        "    print(f'Total rewards: {total_rewards}')\n",
        "    print(f'Wins: {wins}, Losses: {losses}, Draws: {draws}')\n",
        "\n",
        "    #plot outcome distribution\n",
        "    outcomes = [game['reward'] for game in results]\n",
        "    plt.hist(outcomes, bins=np.arange(-1.5, 2, 1), edgecolor='black')\n",
        "    plt.title('Distribution of Game Outcomes')\n",
        "    plt.xlabel('Reward')\n",
        "    plt.ylabel('Frequency')\n",
        "    plt.show()\n"
      ],
      "metadata": {
        "id": "bUmLLeU2rgTi"
      },
      "execution_count": 9,
      "outputs": []
    },
    {
      "cell_type": "code",
      "source": [
        "#play 5 games using the custom policy\n",
        "results = play_blackjack(env, custom_policy, games=5)\n",
        "\n",
        "#analyse the game results\n",
        "analyse_results(results)\n",
        "\n",
        "#estimate Q using monte carlo prediction\n",
        "Q = monte_carlo_prediction(env, custom_policy, episodes=5000)\n",
        "print('Action-value function estimated.')\n",
        "\n",
        "#find optimal policy using monte carlo control\n",
        "optimal_policy, optimal_Q = monte_carlo_control(env, episodes=10000, alpha=0.1)\n",
        "print('Optimal policy obtained.')\n"
      ],
      "metadata": {
        "id": "pywfk2LurtZw",
        "colab": {
          "base_uri": "https://localhost:8080/",
          "height": 1000
        },
        "outputId": "8a296189-1298-487f-8643-3644ed2cc0fc"
      },
      "execution_count": 10,
      "outputs": [
        {
          "output_type": "stream",
          "name": "stdout",
          "text": [
            "Game 1 starts!\n",
            "Game 1 ends! Outcome: -1.0\n",
            "Game 2 starts!\n",
            "Game 2 ends! Outcome: 0.0\n",
            "Game 3 starts!\n",
            "Game 3 ends! Outcome: -1.0\n",
            "Game 4 starts!\n",
            "Game 4 ends! Outcome: -1.0\n",
            "Game 5 starts!\n",
            "Game 5 ends! Outcome: 1.0\n",
            "\n",
            "--- Game Analysis ---\n",
            "Total rewards: -2.0\n",
            "Wins: 1, Losses: 3, Draws: 1\n"
          ]
        },
        {
          "output_type": "stream",
          "name": "stderr",
          "text": [
            "/usr/local/lib/python3.11/dist-packages/gym/utils/passive_env_checker.py:241: DeprecationWarning: `np.bool8` is a deprecated alias for `np.bool_`.  (Deprecated NumPy 1.24)\n",
            "  if not isinstance(terminated, (bool, np.bool8)):\n"
          ]
        },
        {
          "output_type": "display_data",
          "data": {
            "text/plain": [
              "<Figure size 640x480 with 1 Axes>"
            ],
            "image/png": "[encoded data removed]"
          },
          "metadata": {}
        },
        {
          "output_type": "stream",
          "name": "stdout",
          "text": [
            "Episode 500/5000\n",
            "Episode 1000/5000\n",
            "Episode 1500/5000\n",
            "Episode 2000/5000\n",
            "Episode 2500/5000\n",
            "Episode 3000/5000\n",
            "Episode 3500/5000\n",
            "Episode 4000/5000\n",
            "Episode 4500/5000\n",
            "Episode 5000/5000\n",
            "Action-value function estimated.\n",
            "Episode 500/10000\n",
            "Episode 1000/10000\n",
            "Episode 1500/10000\n",
            "Episode 2000/10000\n",
            "Episode 2500/10000\n",
            "Episode 3000/10000\n",
            "Episode 3500/10000\n",
            "Episode 4000/10000\n",
            "Episode 4500/10000\n",
            "Episode 5000/10000\n",
            "Episode 5500/10000\n",
            "Episode 6000/10000\n",
            "Episode 6500/10000\n",
            "Episode 7000/10000\n",
            "Episode 7500/10000\n",
            "Episode 8000/10000\n",
            "Episode 8500/10000\n",
            "Episode 9000/10000\n",
            "Episode 9500/10000\n",
            "Episode 10000/10000\n",
            "Optimal policy obtained.\n"
          ]
        }
      ]
    }
  ]
}
